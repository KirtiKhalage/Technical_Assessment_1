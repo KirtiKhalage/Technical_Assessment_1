{
 "cells": [
  {
   "cell_type": "markdown",
   "id": "a12d152d",
   "metadata": {},
   "source": [
    "# Problem Statement - 1 (Python)"
   ]
  },
  {
   "cell_type": "code",
   "execution_count": 10,
   "id": "28e5da98",
   "metadata": {},
   "outputs": [
    {
     "name": "stdout",
     "output_type": "stream",
     "text": [
      "Enter the number of elements: 4\n",
      "Enter the string: great\n",
      "Enter the string: hello\n",
      "Enter the string: hiyo\n",
      "Enter the string: abc\n",
      "Orignal list:  ['great', 'hello', 'hiyo', 'abc']\n",
      "Sorted list:  ['great', 'abc', 'hello', 'hiyo']\n"
     ]
    }
   ],
   "source": [
    "n = int(input(\"Enter the number of elements: \"))\n",
    "l = []\n",
    "for i in range(0,n):\n",
    "    s = input(\"Enter the string: \")\n",
    "    l.append(s)\n",
    "print(\"Orignal list: \",l)\n",
    "y = sorted(l,key = lambda x:x[-2])\n",
    "print(\"Sorted list: \",y)\n"
   ]
  }
 ],
 "metadata": {
  "kernelspec": {
   "display_name": "Python 3 (ipykernel)",
   "language": "python",
   "name": "python3"
  },
  "language_info": {
   "codemirror_mode": {
    "name": "ipython",
    "version": 3
   },
   "file_extension": ".py",
   "mimetype": "text/x-python",
   "name": "python",
   "nbconvert_exporter": "python",
   "pygments_lexer": "ipython3",
   "version": "3.9.13"
  }
 },
 "nbformat": 4,
 "nbformat_minor": 5
}
